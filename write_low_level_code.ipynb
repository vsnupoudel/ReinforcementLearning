{
  "nbformat": 4,
  "nbformat_minor": 0,
  "metadata": {
    "kernelspec": {
      "display_name": "Python 3",
      "language": "python",
      "name": "python3"
    },
    "language_info": {
      "codemirror_mode": {
        "name": "ipython",
        "version": 3
      },
      "file_extension": ".py",
      "mimetype": "text/x-python",
      "name": "python",
      "nbconvert_exporter": "python",
      "pygments_lexer": "ipython3",
      "version": "3.5.3"
    },
    "colab": {
      "name": "write_low_level_code.ipynb",
      "provenance": [],
      "collapsed_sections": []
    }
  },
  "cells": [
    {
      "cell_type": "markdown",
      "metadata": {
        "id": "zXKs8m7LPiMd"
      },
      "source": [
        "# Writing Low-Level TensorFlow Code\n",
        "\n",
        "\n",
        "**Learning Objectives**\n",
        "\n",
        " 1. Practice defining and performing basic operations on constant Tensors\n",
        " 2. Use Tensorflow's automatic differentiation capability\n",
        " 3. Learn how to train a linear regression from scratch with TensorFLow\n",
        "\n",
        "\n",
        "## Introduction \n",
        "\n",
        "In this notebook, we will start by reviewing the main operations on Tensors in TensorFlow and understand how to manipulate TensorFlow Variables. We explain how these are compatible with python built-in list and numpy arrays. \n",
        "\n",
        "Then we will jump to the problem of training a linear regression from scratch with gradient descent. The first order of business will be to understand how to compute the gradients of a function (the loss here) with respect to some of its arguments (the model weights here). The TensorFlow construct allowing us to do that is `tf.GradientTape`, which we will describe. \n",
        "\n",
        "At last we will create a simple training loop to learn the weights of a 1-dim linear regression using synthetic data generated from a linear model. \n",
        "\n",
        "As a bonus exercise, we will do the same for data generated from a non linear model, forcing us to manual engineer non-linear features to improve our linear model performance.\n",
        "\n",
        "Each learning objective will correspond to a __#TODO__  in this student lab notebook -- try to complete this notebook first and then review the [solution notebook](https://github.com/GoogleCloudPlatform/training-data-analyst/blob/master/courses/machine_learning/deepdive2/introduction_to_tensorflow/solutions/write_low_level_code.ipynb)\n"
      ]
    },
    {
      "cell_type": "code",
      "metadata": {
        "id": "eEF-9zOlPiMp"
      },
      "source": [
        "import numpy as np\n",
        "from matplotlib import pyplot as plt\n",
        "import tensorflow as tf"
      ],
      "execution_count": 1,
      "outputs": []
    },
    {
      "cell_type": "code",
      "metadata": {
        "colab": {
          "base_uri": "https://localhost:8080/"
        },
        "id": "g9a1vFf6eimR",
        "outputId": "150b7e91-6473-4bce-ad2b-f086f93ec7fb"
      },
      "source": [
        "x = tf.constant(3.0)\n",
        "with tf.GradientTape() as g:\n",
        "  g.watch(x)\n",
        "  y = x * x\n",
        "\n",
        "dy_dx = g.gradient(y, x)\n",
        "print('x,y,dy_dx: ' , x, y, '\\n', dy_dx)"
      ],
      "execution_count": 31,
      "outputs": [
        {
          "output_type": "stream",
          "name": "stdout",
          "text": [
            "x,y,dy_dx:  tf.Tensor(3.0, shape=(), dtype=float32) tf.Tensor(9.0, shape=(), dtype=float32) \n",
            " tf.Tensor(6.0, shape=(), dtype=float32)\n"
          ]
        }
      ]
    },
    {
      "cell_type": "code",
      "metadata": {
        "colab": {
          "base_uri": "https://localhost:8080/",
          "height": 387
        },
        "id": "bbkjPIU0j3F3",
        "outputId": "0b553740-596b-4960-c4a8-9fc9186174dc"
      },
      "source": [
        "k = tf.constant( 0.015 )\n",
        "gt = tf.GradientTape()\n",
        "print( type(gt) )\n",
        "gt.watch(k)\n",
        "l = k*k\n",
        "gt.gradient(l,k)"
      ],
      "execution_count": 35,
      "outputs": [
        {
          "output_type": "stream",
          "name": "stdout",
          "text": [
            "<class 'tensorflow.python.eager.backprop.GradientTape'>\n"
          ]
        },
        {
          "output_type": "error",
          "ename": "AttributeError",
          "evalue": "ignored",
          "traceback": [
            "\u001b[0;31m---------------------------------------------------------------------------\u001b[0m",
            "\u001b[0;31mAttributeError\u001b[0m                            Traceback (most recent call last)",
            "\u001b[0;32m<ipython-input-35-ef6a19dc0e06>\u001b[0m in \u001b[0;36m<module>\u001b[0;34m()\u001b[0m\n\u001b[1;32m      2\u001b[0m \u001b[0mgt\u001b[0m \u001b[0;34m=\u001b[0m \u001b[0mtf\u001b[0m\u001b[0;34m.\u001b[0m\u001b[0mGradientTape\u001b[0m\u001b[0;34m(\u001b[0m\u001b[0;34m)\u001b[0m\u001b[0;34m\u001b[0m\u001b[0;34m\u001b[0m\u001b[0m\n\u001b[1;32m      3\u001b[0m \u001b[0mprint\u001b[0m\u001b[0;34m(\u001b[0m \u001b[0mtype\u001b[0m\u001b[0;34m(\u001b[0m\u001b[0mgt\u001b[0m\u001b[0;34m)\u001b[0m \u001b[0;34m)\u001b[0m\u001b[0;34m\u001b[0m\u001b[0;34m\u001b[0m\u001b[0m\n\u001b[0;32m----> 4\u001b[0;31m \u001b[0mgt\u001b[0m\u001b[0;34m.\u001b[0m\u001b[0mwatch\u001b[0m\u001b[0;34m(\u001b[0m\u001b[0mk\u001b[0m\u001b[0;34m)\u001b[0m\u001b[0;34m\u001b[0m\u001b[0;34m\u001b[0m\u001b[0m\n\u001b[0m\u001b[1;32m      5\u001b[0m \u001b[0ml\u001b[0m \u001b[0;34m=\u001b[0m \u001b[0mk\u001b[0m\u001b[0;34m*\u001b[0m\u001b[0mk\u001b[0m\u001b[0;34m\u001b[0m\u001b[0;34m\u001b[0m\u001b[0m\n\u001b[1;32m      6\u001b[0m \u001b[0mgt\u001b[0m\u001b[0;34m.\u001b[0m\u001b[0mgradient\u001b[0m\u001b[0;34m(\u001b[0m\u001b[0ml\u001b[0m\u001b[0;34m,\u001b[0m\u001b[0mk\u001b[0m\u001b[0;34m)\u001b[0m\u001b[0;34m\u001b[0m\u001b[0;34m\u001b[0m\u001b[0m\n",
            "\u001b[0;32m/usr/local/lib/python3.7/dist-packages/tensorflow/python/eager/backprop.py\u001b[0m in \u001b[0;36mwatch\u001b[0;34m(self, tensor)\u001b[0m\n\u001b[1;32m    919\u001b[0m         \u001b[0mtape\u001b[0m\u001b[0;34m.\u001b[0m\u001b[0mwatch_variable\u001b[0m\u001b[0;34m(\u001b[0m\u001b[0mself\u001b[0m\u001b[0;34m.\u001b[0m\u001b[0m_tape\u001b[0m\u001b[0;34m,\u001b[0m \u001b[0mt\u001b[0m\u001b[0;34m)\u001b[0m\u001b[0;34m\u001b[0m\u001b[0;34m\u001b[0m\u001b[0m\n\u001b[1;32m    920\u001b[0m       \u001b[0;32melse\u001b[0m\u001b[0;34m:\u001b[0m\u001b[0;34m\u001b[0m\u001b[0;34m\u001b[0m\u001b[0m\n\u001b[0;32m--> 921\u001b[0;31m         \u001b[0mtape\u001b[0m\u001b[0;34m.\u001b[0m\u001b[0mwatch\u001b[0m\u001b[0;34m(\u001b[0m\u001b[0mself\u001b[0m\u001b[0;34m.\u001b[0m\u001b[0m_tape\u001b[0m\u001b[0;34m,\u001b[0m \u001b[0mt\u001b[0m\u001b[0;34m)\u001b[0m\u001b[0;34m\u001b[0m\u001b[0;34m\u001b[0m\u001b[0m\n\u001b[0m\u001b[1;32m    922\u001b[0m \u001b[0;34m\u001b[0m\u001b[0m\n\u001b[1;32m    923\u001b[0m   \u001b[0;34m@\u001b[0m\u001b[0mtf_contextlib\u001b[0m\u001b[0;34m.\u001b[0m\u001b[0mcontextmanager\u001b[0m\u001b[0;34m\u001b[0m\u001b[0;34m\u001b[0m\u001b[0m\n",
            "\u001b[0;32m/usr/local/lib/python3.7/dist-packages/tensorflow/python/eager/tape.py\u001b[0m in \u001b[0;36mwatch\u001b[0;34m(tape, tensor)\u001b[0m\n\u001b[1;32m     58\u001b[0m \u001b[0;32mdef\u001b[0m \u001b[0mwatch\u001b[0m\u001b[0;34m(\u001b[0m\u001b[0mtape\u001b[0m\u001b[0;34m,\u001b[0m \u001b[0mtensor\u001b[0m\u001b[0;34m)\u001b[0m\u001b[0;34m:\u001b[0m\u001b[0;34m\u001b[0m\u001b[0;34m\u001b[0m\u001b[0m\n\u001b[1;32m     59\u001b[0m   \u001b[0;34m\"\"\"Marks this tensor to be watched by the given tape.\"\"\"\u001b[0m\u001b[0;34m\u001b[0m\u001b[0;34m\u001b[0m\u001b[0m\n\u001b[0;32m---> 60\u001b[0;31m   \u001b[0mpywrap_tfe\u001b[0m\u001b[0;34m.\u001b[0m\u001b[0mTFE_Py_TapeWatch\u001b[0m\u001b[0;34m(\u001b[0m\u001b[0mtape\u001b[0m\u001b[0;34m.\u001b[0m\u001b[0m_tape\u001b[0m\u001b[0;34m,\u001b[0m \u001b[0mtensor\u001b[0m\u001b[0;34m)\u001b[0m  \u001b[0;31m# pylint: disable=protected-access\u001b[0m\u001b[0;34m\u001b[0m\u001b[0;34m\u001b[0m\u001b[0m\n\u001b[0m\u001b[1;32m     61\u001b[0m \u001b[0;34m\u001b[0m\u001b[0m\n\u001b[1;32m     62\u001b[0m \u001b[0;34m\u001b[0m\u001b[0m\n",
            "\u001b[0;31mAttributeError\u001b[0m: 'NoneType' object has no attribute '_tape'"
          ]
        }
      ]
    },
    {
      "cell_type": "code",
      "metadata": {
        "colab": {
          "base_uri": "https://localhost:8080/"
        },
        "id": "PfZjnzNRPiMs",
        "outputId": "514f54d4-c636-4023-8bbe-c410539868cb"
      },
      "source": [
        "print(tf.__version__)"
      ],
      "execution_count": 2,
      "outputs": [
        {
          "output_type": "stream",
          "name": "stdout",
          "text": [
            "2.6.0\n"
          ]
        }
      ]
    },
    {
      "cell_type": "markdown",
      "metadata": {
        "id": "FFaVWJjNPiMu"
      },
      "source": [
        "## Operations on Tensors"
      ]
    },
    {
      "cell_type": "markdown",
      "metadata": {
        "id": "x5wdhL74PiMv"
      },
      "source": [
        "### Variables and Constants"
      ]
    },
    {
      "cell_type": "markdown",
      "metadata": {
        "id": "wrPG6AoRPiMv"
      },
      "source": [
        "Tensors in TensorFlow are either contant (`tf.constant`) or variables (`tf.Variable`).\n",
        "Constant values can not be changed, while variables values can be.\n",
        "\n",
        "The main difference is that instances of `tf.Variable` have methods allowing us to change \n",
        "their values while tensors constructed with `tf.constant` don't have these methods, and\n",
        "therefore their values can not be changed. When you want to change the value of a `tf.Variable`\n",
        "`x` use one of the following method: \n",
        "\n",
        "* `x.assign(new_value)`\n",
        "* `x.assign_add(value_to_be_added)`\n",
        "* `x.assign_sub(value_to_be_subtracted`\n",
        "\n"
      ]
    },
    {
      "cell_type": "code",
      "metadata": {
        "colab": {
          "base_uri": "https://localhost:8080/"
        },
        "id": "hcmFcuzsPiMw",
        "outputId": "16b1d0ea-21a7-48d1-8f23-262705728f8a"
      },
      "source": [
        "x = tf.constant([2, 3, 4])\n",
        "x"
      ],
      "execution_count": 3,
      "outputs": [
        {
          "output_type": "execute_result",
          "data": {
            "text/plain": [
              "<tf.Tensor: shape=(3,), dtype=int32, numpy=array([2, 3, 4], dtype=int32)>"
            ]
          },
          "metadata": {},
          "execution_count": 3
        }
      ]
    },
    {
      "cell_type": "code",
      "metadata": {
        "id": "wVp_eBRqPiMy"
      },
      "source": [
        "x = tf.Variable(2.0, dtype=tf.float32, name='my_variable')"
      ],
      "execution_count": 4,
      "outputs": []
    },
    {
      "cell_type": "code",
      "metadata": {
        "colab": {
          "base_uri": "https://localhost:8080/"
        },
        "id": "Cz0EvWMqPiM0",
        "outputId": "9670dd38-9603-437e-a4d5-559242deb4ec"
      },
      "source": [
        "x.assign(45.8)\n",
        "x"
      ],
      "execution_count": 5,
      "outputs": [
        {
          "output_type": "execute_result",
          "data": {
            "text/plain": [
              "<tf.Variable 'my_variable:0' shape=() dtype=float32, numpy=45.8>"
            ]
          },
          "metadata": {},
          "execution_count": 5
        }
      ]
    },
    {
      "cell_type": "code",
      "metadata": {
        "colab": {
          "base_uri": "https://localhost:8080/"
        },
        "id": "KuexxbcXPiM2",
        "outputId": "7940f282-e5a2-41b6-92e8-22e5dac5685e"
      },
      "source": [
        "x.assign_add(4) \n",
        "x"
      ],
      "execution_count": 6,
      "outputs": [
        {
          "output_type": "execute_result",
          "data": {
            "text/plain": [
              "<tf.Variable 'my_variable:0' shape=() dtype=float32, numpy=49.8>"
            ]
          },
          "metadata": {},
          "execution_count": 6
        }
      ]
    },
    {
      "cell_type": "code",
      "metadata": {
        "colab": {
          "base_uri": "https://localhost:8080/"
        },
        "id": "d4-XDdXPPiM3",
        "outputId": "82190470-8e30-466a-bddd-53dece4cb827"
      },
      "source": [
        "x.assign_sub(3)\n",
        "x"
      ],
      "execution_count": 7,
      "outputs": [
        {
          "output_type": "execute_result",
          "data": {
            "text/plain": [
              "<tf.Variable 'my_variable:0' shape=() dtype=float32, numpy=46.8>"
            ]
          },
          "metadata": {},
          "execution_count": 7
        }
      ]
    },
    {
      "cell_type": "markdown",
      "metadata": {
        "id": "LpnJ6WdOPiM3"
      },
      "source": [
        "### Point-wise operations"
      ]
    },
    {
      "cell_type": "markdown",
      "metadata": {
        "id": "N9uYX3b8PiM4"
      },
      "source": [
        "Tensorflow offers similar point-wise tensor operations as numpy does:\n",
        "    \n",
        "* `tf.add` allows to add the components of a tensor \n",
        "* `tf.multiply` allows us to multiply the components of a tensor\n",
        "* `tf.subtract` allow us to substract the components of a tensor\n",
        "* `tf.math.*` contains the usual math operations to be applied on the components of a tensor\n",
        "* and many more...\n",
        "\n",
        "Most of the standard arithmetic operations (`tf.add`, `tf.substrac`, etc.) are overloaded by the usual corresponding arithmetic symbols (`+`, `-`, etc.)"
      ]
    },
    {
      "cell_type": "markdown",
      "metadata": {
        "id": "o2TW8W07PiM5"
      },
      "source": [
        "**Lab Task #1:** Performing basic operations on Tensors \n",
        "1. In the first cell, define two constants `a` and `b` and compute their sum in c and d respectively, below using `tf.add` and `+` and verify both operations produce the same values.\n",
        "2. In the second cell, compute the product of the constants `a` and `b` below using `tf.multiply` and `*` and verify both operations produce the same values.\n",
        "3. In the third cell, compute the exponential of the constant `a` using `tf.math.exp`. Note, you'll need to specify the type for this operation.\n"
      ]
    },
    {
      "cell_type": "code",
      "metadata": {
        "id": "a3GfDL-_PiM6",
        "outputId": "15bb0ae6-d04a-4b8a-9160-5f321fd157de"
      },
      "source": [
        "# TODO 1a\n",
        "a = # TODO -- Your code here.\n",
        "b = # TODO -- Your code here.\n",
        "c = # TODO -- Your code here.\n",
        "d = # TODO -- Your code here.\n",
        "\n",
        "print(\"c:\", c)\n",
        "print(\"d:\", d)"
      ],
      "execution_count": null,
      "outputs": [
        {
          "name": "stdout",
          "output_type": "stream",
          "text": [
            "c: tf.Tensor([ 8  2 10], shape=(3,), dtype=int32)\n",
            "d: tf.Tensor([ 8  2 10], shape=(3,), dtype=int32)\n"
          ]
        }
      ]
    },
    {
      "cell_type": "code",
      "metadata": {
        "id": "LQaXQ6B7PiM7",
        "outputId": "3931f9cd-622a-45f8-e6a0-8687ea809a76"
      },
      "source": [
        "# TODO 1b\n",
        "a = # TODO -- Your code here.\n",
        "b = # TODO -- Your code here.\n",
        "c = # TODO -- Your code here.\n",
        "d = # TODO -- Your code here.\n",
        "\n",
        "print(\"c:\", c)\n",
        "print(\"d:\", d)"
      ],
      "execution_count": null,
      "outputs": [
        {
          "name": "stdout",
          "output_type": "stream",
          "text": [
            "c: tf.Tensor([15 -3 16], shape=(3,), dtype=int32)\n",
            "d: tf.Tensor([15 -3 16], shape=(3,), dtype=int32)\n"
          ]
        }
      ]
    },
    {
      "cell_type": "code",
      "metadata": {
        "id": "b9fN_zOnPiM8",
        "outputId": "ad60de74-cebc-44c1-cdaa-ccfd0cf3b741"
      },
      "source": [
        "# TODO 1c\n",
        "# tf.math.exp expects floats so we need to explicitly give the type\n",
        "a = # TODO -- Your code here.\n",
        "b = # TODO -- Your code here.\n",
        "\n",
        "print(\"b:\", b)"
      ],
      "execution_count": null,
      "outputs": [
        {
          "name": "stdout",
          "output_type": "stream",
          "text": [
            "b: tf.Tensor([ 148.41316    20.085537 2980.958   ], shape=(3,), dtype=float32)\n"
          ]
        }
      ]
    },
    {
      "cell_type": "markdown",
      "metadata": {
        "id": "DRBgs2gTPiM9"
      },
      "source": [
        "### NumPy Interoperability\n",
        "\n",
        "In addition to native TF tensors, tensorflow operations can take native python types and NumPy arrays as operands. "
      ]
    },
    {
      "cell_type": "code",
      "metadata": {
        "id": "jLlA0ZsrPiM-"
      },
      "source": [
        "# native python list\n",
        "a_py = [1, 2] \n",
        "b_py = [3, 4] "
      ],
      "execution_count": 8,
      "outputs": []
    },
    {
      "cell_type": "code",
      "metadata": {
        "colab": {
          "base_uri": "https://localhost:8080/"
        },
        "id": "UY6Bqq3aPiM-",
        "outputId": "d1cf0ef7-a78b-43ec-a6ed-0a5506bf3745"
      },
      "source": [
        "tf.add(a_py, b_py)"
      ],
      "execution_count": 9,
      "outputs": [
        {
          "output_type": "execute_result",
          "data": {
            "text/plain": [
              "<tf.Tensor: shape=(2,), dtype=int32, numpy=array([4, 6], dtype=int32)>"
            ]
          },
          "metadata": {},
          "execution_count": 9
        }
      ]
    },
    {
      "cell_type": "code",
      "metadata": {
        "id": "j0SzAQ3VPiM_"
      },
      "source": [
        "# numpy arrays\n",
        "a_np = np.array([1, 2])\n",
        "b_np = np.array([3, 4])"
      ],
      "execution_count": 10,
      "outputs": []
    },
    {
      "cell_type": "code",
      "metadata": {
        "colab": {
          "base_uri": "https://localhost:8080/"
        },
        "id": "b82bi5NPPiNA",
        "outputId": "316830fe-96c5-438b-e027-05bb0f84763f"
      },
      "source": [
        "tf.add(a_np, b_np) "
      ],
      "execution_count": 11,
      "outputs": [
        {
          "output_type": "execute_result",
          "data": {
            "text/plain": [
              "<tf.Tensor: shape=(2,), dtype=int64, numpy=array([4, 6])>"
            ]
          },
          "metadata": {},
          "execution_count": 11
        }
      ]
    },
    {
      "cell_type": "code",
      "metadata": {
        "id": "kzbtbA-1PiNA"
      },
      "source": [
        "# native TF tensor\n",
        "a_tf = tf.constant([1, 2])\n",
        "b_tf = tf.constant([3, 4])"
      ],
      "execution_count": 12,
      "outputs": []
    },
    {
      "cell_type": "code",
      "metadata": {
        "colab": {
          "base_uri": "https://localhost:8080/"
        },
        "id": "qhh5qZjsPiNB",
        "outputId": "e092d503-c5e3-4206-8c60-25b53451d986"
      },
      "source": [
        "tf.add(a_tf, b_tf)"
      ],
      "execution_count": 13,
      "outputs": [
        {
          "output_type": "execute_result",
          "data": {
            "text/plain": [
              "<tf.Tensor: shape=(2,), dtype=int32, numpy=array([4, 6], dtype=int32)>"
            ]
          },
          "metadata": {},
          "execution_count": 13
        }
      ]
    },
    {
      "cell_type": "markdown",
      "metadata": {
        "id": "RQ_aF4BoPiNB"
      },
      "source": [
        "You can convert a native TF tensor to a NumPy array using .numpy()"
      ]
    },
    {
      "cell_type": "code",
      "metadata": {
        "colab": {
          "base_uri": "https://localhost:8080/"
        },
        "id": "wYMqK10qPiNC",
        "outputId": "c291d54b-d1a9-4a2b-f97b-da90f97dba0f"
      },
      "source": [
        "a_tf.numpy()"
      ],
      "execution_count": 14,
      "outputs": [
        {
          "output_type": "execute_result",
          "data": {
            "text/plain": [
              "array([1, 2], dtype=int32)"
            ]
          },
          "metadata": {},
          "execution_count": 14
        }
      ]
    },
    {
      "cell_type": "markdown",
      "metadata": {
        "id": "Q8cTbWLpPiND"
      },
      "source": [
        "## Linear Regression\n",
        "\n",
        "Now let's use low level tensorflow operations to implement linear regression.\n",
        "\n",
        "Later in the course you'll see abstracted ways to do this using high level TensorFlow."
      ]
    },
    {
      "cell_type": "markdown",
      "metadata": {
        "id": "LTiK4dVDPiNE"
      },
      "source": [
        "### Toy Dataset\n",
        "\n",
        "We'll model the following function:\n",
        "\n",
        "\\begin{equation}\n",
        "y= 2x + 10\n",
        "\\end{equation}"
      ]
    },
    {
      "cell_type": "code",
      "metadata": {
        "colab": {
          "base_uri": "https://localhost:8080/"
        },
        "id": "ZJO9bThlPiNE",
        "outputId": "1ee3189a-d6d7-4745-bd37-1239b73cfc19"
      },
      "source": [
        "X = tf.constant(range(10), dtype=tf.float32)\n",
        "Y = 2 * X + 10\n",
        "\n",
        "print(\"X:{}\".format(X))\n",
        "print(\"Y:{}\".format(Y))"
      ],
      "execution_count": 15,
      "outputs": [
        {
          "output_type": "stream",
          "name": "stdout",
          "text": [
            "X:[0. 1. 2. 3. 4. 5. 6. 7. 8. 9.]\n",
            "Y:[10. 12. 14. 16. 18. 20. 22. 24. 26. 28.]\n"
          ]
        }
      ]
    },
    {
      "cell_type": "markdown",
      "metadata": {
        "id": "Td62S97QPiNF"
      },
      "source": [
        "Let's also create a test dataset to evaluate our models:"
      ]
    },
    {
      "cell_type": "code",
      "metadata": {
        "colab": {
          "base_uri": "https://localhost:8080/"
        },
        "id": "SEObOPTmPiNG",
        "outputId": "1e39860c-6530-4a55-d849-a3ce4e981810"
      },
      "source": [
        "X_test = tf.constant(range(10, 20), dtype=tf.float32)\n",
        "Y_test = 2 * X_test + 10\n",
        "\n",
        "print(\"X_test:{}\".format(X_test))\n",
        "print(\"Y_test:{}\".format(Y_test))"
      ],
      "execution_count": 16,
      "outputs": [
        {
          "output_type": "stream",
          "name": "stdout",
          "text": [
            "X_test:[10. 11. 12. 13. 14. 15. 16. 17. 18. 19.]\n",
            "Y_test:[30. 32. 34. 36. 38. 40. 42. 44. 46. 48.]\n"
          ]
        }
      ]
    },
    {
      "cell_type": "markdown",
      "metadata": {
        "id": "xEvKHrUtPiNG"
      },
      "source": [
        "#### Loss Function"
      ]
    },
    {
      "cell_type": "markdown",
      "metadata": {
        "id": "vMOtbK8vPiNG"
      },
      "source": [
        "The simplest model we can build is a model that for each value of x returns the sample mean of the training set:"
      ]
    },
    {
      "cell_type": "code",
      "metadata": {
        "colab": {
          "base_uri": "https://localhost:8080/"
        },
        "id": "AExhymFmPiNH",
        "outputId": "7a7fa75b-f188-4be5-f195-12b4e3febca9"
      },
      "source": [
        "y_mean = Y.numpy().mean()\n",
        "\n",
        "\n",
        "def predict_mean(X):\n",
        "    y_hat = [y_mean] * len(X)\n",
        "    return y_hat\n",
        "\n",
        "Y_hat = predict_mean(X_test)\n",
        "Y_hat"
      ],
      "execution_count": 18,
      "outputs": [
        {
          "output_type": "execute_result",
          "data": {
            "text/plain": [
              "[19.0, 19.0, 19.0, 19.0, 19.0, 19.0, 19.0, 19.0, 19.0, 19.0]"
            ]
          },
          "metadata": {},
          "execution_count": 18
        }
      ]
    },
    {
      "cell_type": "markdown",
      "metadata": {
        "id": "o9SdpHFVPiNI"
      },
      "source": [
        "Using mean squared error, our loss is:\n",
        "\\begin{equation}\n",
        "MSE = \\frac{1}{m}\\sum_{i=1}^{m}(\\hat{Y}_i-Y_i)^2\n",
        "\\end{equation}"
      ]
    },
    {
      "cell_type": "markdown",
      "metadata": {
        "id": "mHIrORKVPiNI"
      },
      "source": [
        "For this simple model the loss is then:"
      ]
    },
    {
      "cell_type": "code",
      "metadata": {
        "colab": {
          "base_uri": "https://localhost:8080/"
        },
        "id": "GaDmrhz7PiNJ",
        "outputId": "d3ad2714-8ded-441d-fd80-efa4b68abae4"
      },
      "source": [
        "errors = (Y_hat - Y)**2\n",
        "loss = tf.reduce_mean(errors)\n",
        "loss.numpy()"
      ],
      "execution_count": 19,
      "outputs": [
        {
          "output_type": "execute_result",
          "data": {
            "text/plain": [
              "33.0"
            ]
          },
          "metadata": {},
          "execution_count": 19
        }
      ]
    },
    {
      "cell_type": "markdown",
      "metadata": {
        "id": "LxQC9AC-PiNJ"
      },
      "source": [
        "This values for the MSE loss above will give us a baseline to compare how a more complex model is doing."
      ]
    },
    {
      "cell_type": "markdown",
      "metadata": {
        "id": "aAA_RDP7PiNK"
      },
      "source": [
        "Now, if $\\hat{Y}$ represents the vector containing our model's predictions when we use a linear regression model\n",
        "\\begin{equation}\n",
        "\\hat{Y} = w_0X + w_1\n",
        "\\end{equation}\n",
        "\n",
        "we can write a loss function taking as arguments the coefficients of the model:"
      ]
    },
    {
      "cell_type": "code",
      "metadata": {
        "id": "4XZKLYTnPiNK"
      },
      "source": [
        "def loss_mse(X, Y, w0, w1):\n",
        "    Y_hat = w0 * X + w1\n",
        "    errors = (Y_hat - Y)**2\n",
        "    return tf.reduce_mean(errors)"
      ],
      "execution_count": 20,
      "outputs": []
    },
    {
      "cell_type": "markdown",
      "metadata": {
        "id": "Y0Km1DqGPiNK"
      },
      "source": [
        "### Gradient Function\n",
        "\n",
        "To use gradient descent we need to take the partial derivatives of the loss function with respect to each of the weights. We could manually compute the derivatives, but with Tensorflow's automatic differentiation capabilities we don't have to!\n",
        "\n",
        "During gradient descent we think of the loss as a function of the parameters $w_0$ and $w_1$. Thus, we want to compute the partial derivative with respect to these variables. \n",
        "\n",
        "For that we need to wrap our loss computation within the context of `tf.GradientTape` instance which will record gradient information:\n",
        "\n",
        "```python\n",
        "with tf.GradientTape() as tape:\n",
        "    loss = # computation \n",
        "```\n",
        "\n",
        "This will allow us to later compute the gradients of any tensor computed within the `tf.GradientTape` context with respect to instances of `tf.Variable`:\n",
        "\n",
        "```python\n",
        "gradients = tape.gradient(loss, [w0, w1])\n",
        "```"
      ]
    },
    {
      "cell_type": "markdown",
      "metadata": {
        "id": "XIwA7nn0PiNL"
      },
      "source": [
        "We illustrate this procedure by computing the loss gradients with respect to the model weights:"
      ]
    },
    {
      "cell_type": "markdown",
      "metadata": {
        "id": "5KvWDrsjPiNL"
      },
      "source": [
        "**Lab Task #2:** Complete the function below to compute the loss gradients with respect to the model weights `w0` and `w1`. "
      ]
    },
    {
      "cell_type": "code",
      "metadata": {
        "id": "1BlMXYx2PiNL"
      },
      "source": [
        "# TODO 2\n",
        "def compute_gradients(X, Y, w0, w1):\n",
        "    with tf.GradientTape() as tape:\n",
        "        loss = loss_mse(X, Y, w0, w1)\n",
        "    return tape.gradient(loss, [w0, w1])"
      ],
      "execution_count": 45,
      "outputs": []
    },
    {
      "cell_type": "code",
      "metadata": {
        "colab": {
          "base_uri": "https://localhost:8080/"
        },
        "id": "GsDeowaGPiNL",
        "outputId": "3d25be28-b38e-475b-c76d-28a601008b05"
      },
      "source": [
        "w0 = tf.Variable(0.0)\n",
        "w1 = tf.Variable(0.0)\n",
        "\n",
        "dw0, dw1 = compute_gradients(X, Y, w0, w1)\n",
        "dw0, dw1"
      ],
      "execution_count": 46,
      "outputs": [
        {
          "output_type": "execute_result",
          "data": {
            "text/plain": [
              "(<tf.Tensor: shape=(), dtype=float32, numpy=-204.0>,\n",
              " <tf.Tensor: shape=(), dtype=float32, numpy=-38.0>)"
            ]
          },
          "metadata": {},
          "execution_count": 46
        }
      ]
    },
    {
      "cell_type": "code",
      "metadata": {
        "colab": {
          "base_uri": "https://localhost:8080/"
        },
        "id": "U0NhlsNXPiNM",
        "outputId": "99e30e64-33d8-4711-bd19-9e692864a632"
      },
      "source": [
        "print(\"dw0:\", dw0.numpy())"
      ],
      "execution_count": 47,
      "outputs": [
        {
          "output_type": "stream",
          "name": "stdout",
          "text": [
            "dw0: -204.0\n"
          ]
        }
      ]
    },
    {
      "cell_type": "code",
      "metadata": {
        "colab": {
          "base_uri": "https://localhost:8080/"
        },
        "id": "x9VLJw_oPiNM",
        "outputId": "e44447b7-9b4c-463d-d943-2381d48d18b8"
      },
      "source": [
        "print(\"dw1\", dw1.numpy())"
      ],
      "execution_count": 48,
      "outputs": [
        {
          "output_type": "stream",
          "name": "stdout",
          "text": [
            "dw1 -38.0\n"
          ]
        }
      ]
    },
    {
      "cell_type": "markdown",
      "metadata": {
        "id": "fBNHVnA2PiNN"
      },
      "source": [
        "### Training Loop\n",
        "\n",
        "Here we have a very simple training loop that converges. Note we are ignoring best practices like batching, creating a separate test set, and random weight initialization for the sake of simplicity."
      ]
    },
    {
      "cell_type": "markdown",
      "metadata": {
        "id": "j8VBW-WJPiNN"
      },
      "source": [
        "**Lab Task #3:** Complete the `for` loop below to train a linear regression. \n",
        "1. Use `compute_gradients` to compute `dw0` and `dw1`.\n",
        "2. Then, re-assign the value of `w0` and `w1` using the `.assign_sub(...)` method with the computed gradient values and the `LEARNING_RATE`.\n",
        "3. Finally, for every 100th step , we'll compute and print the `loss`. Use the `loss_mse` function we created above to compute the `loss`. "
      ]
    },
    {
      "cell_type": "code",
      "metadata": {
        "colab": {
          "base_uri": "https://localhost:8080/"
        },
        "id": "4SusUZ8wPiNN",
        "outputId": "86629670-1cd6-4c7a-fae4-5f58e3ba0214"
      },
      "source": [
        "# TODO 3\n",
        "STEPS = 1000\n",
        "LEARNING_RATE = .02\n",
        "MSG = \"STEP {step} - loss: {loss}, w0: {w0}, w1: {w1}\\n\"\n",
        "\n",
        "\n",
        "w0 = tf.Variable(0.0)\n",
        "w1 = tf.Variable(0.0)\n",
        "\n",
        "\n",
        "for step in range(0, STEPS + 1):\n",
        "\n",
        "    dw0, dw1 = compute_gradients(X, Y, w0, w1) # TODO -- Your code here.\n",
        "    w0.assign_sub(dw0 * LEARNING_RATE)\n",
        "    w1.assign_sub(dw1 * LEARNING_RATE)\n",
        "\n",
        "    if step % 100 == 0:\n",
        "        loss = loss_mse ( X, Y, w0, w1 ) # TODO -- Your code here.\n",
        "        print(MSG.format(step=step, loss=loss, w0=w0.numpy(), w1=w1.numpy()))\n"
      ],
      "execution_count": 53,
      "outputs": [
        {
          "output_type": "stream",
          "name": "stdout",
          "text": [
            "STEP 0 - loss: 35.70719528198242, w0: 4.079999923706055, w1: 0.7599999904632568\n",
            "\n",
            "STEP 100 - loss: 2.6017532348632812, w0: 2.4780430793762207, w1: 7.002389907836914\n",
            "\n",
            "STEP 200 - loss: 0.26831889152526855, w0: 2.153517961502075, w1: 9.037351608276367\n",
            "\n",
            "STEP 300 - loss: 0.027671903371810913, w0: 2.0493006706237793, w1: 9.690855979919434\n",
            "\n",
            "STEP 400 - loss: 0.0028539239428937435, w0: 2.0158326625823975, w1: 9.90071964263916\n",
            "\n",
            "STEP 500 - loss: 0.0002943490108009428, w0: 2.005084753036499, w1: 9.96811580657959\n",
            "\n",
            "STEP 600 - loss: 3.0356444767676294e-05, w0: 2.0016329288482666, w1: 9.989760398864746\n",
            "\n",
            "STEP 700 - loss: 3.1322738323069643e-06, w0: 2.0005245208740234, w1: 9.996710777282715\n",
            "\n",
            "STEP 800 - loss: 3.2238213520940917e-07, w0: 2.0001683235168457, w1: 9.998944282531738\n",
            "\n",
            "STEP 900 - loss: 3.369950718479231e-08, w0: 2.000054359436035, w1: 9.999658584594727\n",
            "\n",
            "STEP 1000 - loss: 3.6101481803996194e-09, w0: 2.0000178813934326, w1: 9.99988842010498\n",
            "\n"
          ]
        }
      ]
    },
    {
      "cell_type": "markdown",
      "metadata": {
        "id": "e2zIaxXYPiNO"
      },
      "source": [
        "Now let's compare the test loss for this linear regression to the test loss from the baseline model that outputs always the mean of the training set:"
      ]
    },
    {
      "cell_type": "code",
      "metadata": {
        "colab": {
          "base_uri": "https://localhost:8080/"
        },
        "id": "X12lPUmIPiNO",
        "outputId": "99b9b259-7c1b-4d8a-b705-79216bec5b04"
      },
      "source": [
        "loss = loss_mse(X_test, Y_test, w0, w1)\n",
        "loss.numpy()"
      ],
      "execution_count": 54,
      "outputs": [
        {
          "output_type": "execute_result",
          "data": {
            "text/plain": [
              "2.4563633e-08"
            ]
          },
          "metadata": {},
          "execution_count": 54
        }
      ]
    },
    {
      "cell_type": "markdown",
      "metadata": {
        "id": "rEqxoqAPPiNO"
      },
      "source": [
        "This is indeed much better!"
      ]
    },
    {
      "cell_type": "markdown",
      "metadata": {
        "id": "Lgl9STAdPiNP"
      },
      "source": [
        "## Bonus"
      ]
    },
    {
      "cell_type": "markdown",
      "metadata": {
        "id": "7LDajDImPiNP"
      },
      "source": [
        "Try modeling a non-linear function such as: $y=xe^{-x^2}$"
      ]
    },
    {
      "cell_type": "code",
      "metadata": {
        "id": "TpeQaBQPPiNP"
      },
      "source": [
        "X = tf.constant(np.linspace(0, 2, 1000), dtype=tf.float32)\n",
        "Y = X * tf.exp(-X**2)"
      ],
      "execution_count": 66,
      "outputs": []
    },
    {
      "cell_type": "code",
      "metadata": {
        "colab": {
          "base_uri": "https://localhost:8080/",
          "height": 282
        },
        "id": "X7xQnjSvPiNQ",
        "outputId": "c2056f9e-c2df-4b52-815e-313cab0cd15d"
      },
      "source": [
        "%matplotlib inline\n",
        "\n",
        "plt.plot(X, Y)"
      ],
      "execution_count": 67,
      "outputs": [
        {
          "output_type": "execute_result",
          "data": {
            "text/plain": [
              "[<matplotlib.lines.Line2D at 0x7fdffa4b2f10>]"
            ]
          },
          "metadata": {},
          "execution_count": 67
        },
        {
          "output_type": "display_data",
          "data": {
            "image/png": "[encoded data removed]",
            "text/plain": [
              "<Figure size 432x288 with 1 Axes>"
            ]
          },
          "metadata": {
            "needs_background": "light"
          }
        }
      ]
    },
    {
      "cell_type": "code",
      "metadata": {
        "id": "JRdCLCCtPiNQ"
      },
      "source": [
        "def make_features(X):\n",
        "    f1 = tf.ones_like(X)  # Bias.\n",
        "    f2 = X\n",
        "    f3 = tf.square(X)\n",
        "    f4 = tf.sqrt(X)\n",
        "    f5 = tf.exp(X)\n",
        "    return tf.stack([f1, f2, f3, f4, f5], axis=1)"
      ],
      "execution_count": 82,
      "outputs": []
    },
    {
      "cell_type": "code",
      "metadata": {
        "id": "ttVFwD-9PiNR"
      },
      "source": [
        "def predict(X, W):\n",
        "    return tf.squeeze(X @ W, -1)"
      ],
      "execution_count": 83,
      "outputs": []
    },
    {
      "cell_type": "code",
      "metadata": {
        "id": "4HQopIKcPiNR"
      },
      "source": [
        "def loss_mse(X, Y, W):\n",
        "    Y_hat = predict(X, W)\n",
        "    errors = (Y_hat - Y)**2\n",
        "    return tf.reduce_mean(errors)"
      ],
      "execution_count": 84,
      "outputs": []
    },
    {
      "cell_type": "code",
      "metadata": {
        "id": "nncu42KYPiNR"
      },
      "source": [
        "def compute_gradients(X, Y, W):\n",
        "    with tf.GradientTape() as tape:\n",
        "        loss = loss_mse(X, Y, W)\n",
        "    # print('type(loss): ', type(loss))\n",
        "    return tape.gradient(loss, W)"
      ],
      "execution_count": 85,
      "outputs": []
    },
    {
      "cell_type": "code",
      "metadata": {
        "colab": {
          "base_uri": "https://localhost:8080/",
          "height": 284
        },
        "id": "AGYbxZ3XPiNS",
        "outputId": "7bf8a75a-1cae-48fb-fd18-87d0c73c8bb1"
      },
      "source": [
        "STEPS = 2000\n",
        "LEARNING_RATE = .02\n",
        "\n",
        "\n",
        "Xf = make_features(X)\n",
        "n_weights = Xf.shape[1]\n",
        "\n",
        "W = tf.Variable(np.zeros((n_weights, 1)), dtype=tf.float32)\n",
        "\n",
        "# For plotting\n",
        "steps, losses = [], []\n",
        "plt.figure()\n",
        "\n",
        "\n",
        "for step in range(1, STEPS + 1):\n",
        "\n",
        "    dW = compute_gradients(Xf, Y, W)\n",
        "    W.assign_sub(dW * LEARNING_RATE)\n",
        "\n",
        "    if step % 100 == 0:\n",
        "        loss = loss_mse(Xf, Y, W)\n",
        "        steps.append(step)\n",
        "        losses.append(loss)\n",
        "        plt.clf()\n",
        "        plt.plot(steps, losses)\n",
        "\n",
        "\n",
        "print(\"STEP: {} MSE: {}\".format(STEPS, loss_mse(Xf, Y, W)))"
      ],
      "execution_count": 86,
      "outputs": [
        {
          "output_type": "stream",
          "name": "stdout",
          "text": [
            "STEP: 2000 MSE: 0.002376794582232833\n"
          ]
        },
        {
          "output_type": "display_data",
          "data": {
            "image/png": "[encoded data removed]",
            "text/plain": [
              "<Figure size 432x288 with 1 Axes>"
            ]
          },
          "metadata": {
            "needs_background": "light"
          }
        }
      ]
    },
    {
      "cell_type": "code",
      "metadata": {
        "colab": {
          "base_uri": "https://localhost:8080/",
          "height": 282
        },
        "id": "1cp_FqqIPiNS",
        "outputId": "22dccfcd-04a6-4953-e3de-942f7c4e854e"
      },
      "source": [
        "# The .figure() method will create a new figure, or activate an existing figure.\n",
        "plt.figure()\n",
        "# The .plot() is a versatile function, and will take an arbitrary number of arguments. For example, to plot x versus y.\n",
        "plt.plot(X, Y, label='actual')\n",
        "plt.plot(X, predict(Xf, W), label='predicted')\n",
        "# The .legend() method will place a legend on the axes.\n",
        "plt.legend()"
      ],
      "execution_count": 87,
      "outputs": [
        {
          "output_type": "execute_result",
          "data": {
            "text/plain": [
              "<matplotlib.legend.Legend at 0x7fdff654e310>"
            ]
          },
          "metadata": {},
          "execution_count": 87
        },
        {
          "output_type": "display_data",
          "data": {
            "image/png": "[encoded data removed]",
            "text/plain": [
              "<Figure size 432x288 with 1 Axes>"
            ]
          },
          "metadata": {
            "needs_background": "light"
          }
        }
      ]
    },
    {
      "cell_type": "markdown",
      "metadata": {
        "id": "OKalFgvaPiNT"
      },
      "source": [
        "Copyright 2021 Google Inc. Licensed under the Apache License, Version 2.0 (the \"License\"); you may not use this file except in compliance with the License. You may obtain a copy of the License at http://www.apache.org/licenses/LICENSE-2.0 Unless required by applicable law or agreed to in writing, software distributed under the License is distributed on an \"AS IS\" BASIS, WITHOUT WARRANTIES OR CONDITIONS OF ANY KIND, either express or implied. See the License for the specific language governing permissions and limitations under the License"
      ]
    }
  ]
}